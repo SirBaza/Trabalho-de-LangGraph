{
 "cells": [
  {
   "cell_type": "markdown",
   "id": "cc399193",
   "metadata": {},
   "source": [
    "# AI Fitness Coach - Agente de IA para Criação de Planilhas de Treino de Musculação\n",
    "\n",
    "Este projeto utiliza LangGraph para criar um agente inteligente capaz de gerar planos de treino personalizados.\n",
    "\n",
    "## Arquitetura do Sistema\n",
    "\n",
    "- Coleta e validação de dados do usuário\n",
    "- Ferramenta de busca na web (Tavily Search)\n",
    "- Ferramenta de cálculos matemáticos (IMC, gasto calórico)\n",
    "- RAG com base de conhecimento sobre exercícios e treinos\n",
    "- Geração de plano de treino completo com 12 treinos"
   ]
  },
  {
   "cell_type": "markdown",
   "id": "9b6767d9",
   "metadata": {},
   "source": [
    "## 1 - Instalação e Importação de Bibliotecas"
   ]
  },
  {
   "cell_type": "code",
   "execution_count": 123,
   "id": "0b2ff2a6",
   "metadata": {},
   "outputs": [],
   "source": [
    "from dotenv import find_dotenv, load_dotenv\n",
    "from langchain_groq import ChatGroq\n",
    "from langchain_openai import ChatOpenAI  # ADICIONADO: OpenAI\n",
    "from langchain_huggingface import HuggingFaceEmbeddings\n",
    "from langchain_pinecone import PineconeVectorStore\n",
    "from langchain_core.documents import Document\n",
    "from langchain_core.tools import tool\n",
    "from langchain.tools.retriever import create_retriever_tool\n",
    "from langchain_community.tools import DuckDuckGoSearchRun\n",
    "from langgraph.graph import StateGraph, START, END\n",
    "from langgraph.graph.message import add_messages\n",
    "from langgraph.prebuilt import ToolNode, tools_condition\n",
    "from langgraph.checkpoint.memory import MemorySaver\n",
    "from typing_extensions import TypedDict\n",
    "from typing import Annotated\n",
    "from pinecone import Pinecone, ServerlessSpec\n",
    "from IPython.display import display, Markdown, Image\n",
    "import ipywidgets as widgets\n",
    "import os\n",
    "import time\n",
    "import math"
   ]
  },
  {
   "cell_type": "markdown",
   "id": "f44d8f0f",
   "metadata": {},
   "source": [
    "## 2 - Configuração do Modelo LLM"
   ]
  },
  {
   "cell_type": "code",
   "execution_count": 147,
   "id": "dc5638ab",
   "metadata": {},
   "outputs": [
    {
     "name": "stdout",
     "output_type": "stream",
     "text": [
      "✅ Modelo carregado: gpt-4o (OPENAI)\n",
      "   Temperature: 0.7\n"
     ]
    }
   ],
   "source": [
    "load_dotenv(find_dotenv())\n",
    "\n",
    "def load_llm(id_model, temperature, provider=\"openai\"):\n",
    "    \"\"\"\n",
    "    Carrega o modelo LLM - suporta OpenAI e Groq\n",
    "    \n",
    "    Args:\n",
    "        id_model: Nome do modelo\n",
    "        temperature: Controle de criatividade (0.0 a 1.0)\n",
    "        provider: \"openai\" ou \"groq\"\n",
    "    \"\"\"\n",
    "    if provider == \"openai\":\n",
    "        llm = ChatOpenAI(\n",
    "            model=id_model,\n",
    "            temperature=temperature,\n",
    "            max_tokens=None,\n",
    "            timeout=None,\n",
    "            max_retries=2,\n",
    "        )\n",
    "    else:  # groq\n",
    "        llm = ChatGroq(\n",
    "            model=id_model,\n",
    "            temperature=temperature,\n",
    "            max_tokens=None,\n",
    "            timeout=None,\n",
    "            max_retries=2,\n",
    "        )\n",
    "    return llm\n",
    "\n",
    "# CONFIGURAÇÃO: Mude aqui para trocar entre OpenAI e Groq\n",
    "provider = \"groq\"  # ✅ USANDO GROQ (gratuito e funcional)\n",
    "\n",
    "# Modelos recomendados:\n",
    "# OpenAI: \"gpt-4o-mini\", \"gpt-4o\", \"gpt-4-turbo\", \"gpt-3.5-turbo\"\n",
    "# Groq: \"llama-3.3-70b-versatile\", \"llama-3.1-8b-instant\"\n",
    "\n",
    "if provider == \"openai\":\n",
    "    id_model = \"gpt-4o\"  \n",
    "else:\n",
    "    id_model = \"llama-3.1-8b-instant\"  # Mais leve para evitar erro 413\n",
    "\n",
    "temperature = 0.7\n",
    "\n",
    "llm = load_llm(id_model, temperature, provider)\n",
    "print(f\"✅ Modelo carregado: {id_model} ({provider.upper()})\")\n",
    "print(f\"   Temperature: {temperature}\")"
   ]
  },
  {
   "cell_type": "markdown",
   "id": "5e961660",
   "metadata": {},
   "source": [
    "### 💡 Modelos Disponíveis\n",
    "\n",
    "**OpenAI (Recomendado - sem erro 413):**\n",
    "- `gpt-4o-mini` - Mais rápido e econômico ⚡ **(RECOMENDADO)**\n",
    "- `gpt-4o` - Mais poderoso e recente\n",
    "- `gpt-4-turbo` - Equilíbrio custo/desempenho\n",
    "- `gpt-3.5-turbo` - Mais barato\n",
    "\n",
    "**Groq (Gratuito mas com limites):**\n",
    "- `llama-3.3-70b-versatile` - Mais poderoso (pode dar erro 413)\n",
    "- `llama-3.1-8b-instant` - Mais rápido\n",
    "\n",
    "**Para trocar:** Modifique as variáveis `provider` e `id_model` na célula acima."
   ]
  },
  {
   "cell_type": "markdown",
   "id": "4b5e0803",
   "metadata": {},
   "source": [
    "## 3 - Criação da Base de Conhecimento (RAG)"
   ]
  },
  {
   "cell_type": "markdown",
   "id": "b4ced65e",
   "metadata": {},
   "source": [
    "### 3.1 - Base de dados sobre exercícios e treinamento"
   ]
  },
  {
   "cell_type": "code",
   "execution_count": 125,
   "id": "2c2dd83a",
   "metadata": {},
   "outputs": [
    {
     "name": "stdout",
     "output_type": "stream",
     "text": [
      "Base de conhecimento criada com sucesso!\n"
     ]
    }
   ],
   "source": [
    "knowledge_base = \"\"\"\n",
    "# Princípios do Treinamento de Musculação\n",
    "\n",
    "## Hipertrofia Muscular\n",
    "A hipertrofia é o aumento do tamanho das fibras musculares. Para maximizar a hipertrofia:\n",
    "- Volume: 3-5 séries por exercício\n",
    "- Repetições: 8-12 repetições por série\n",
    "- Descanso: 60-90 segundos entre séries\n",
    "- Frequência: Treinar cada grupo muscular 2 vezes por semana\n",
    "- Progressão: Aumentar carga gradualmente\n",
    "\n",
    "## Força Muscular\n",
    "Treinamento focado em ganho de força máxima:\n",
    "- Volume: 3-5 séries por exercício\n",
    "- Repetições: 3-6 repetições por série\n",
    "- Descanso: 2-5 minutos entre séries\n",
    "- Intensidade: 85-95% de 1RM\n",
    "- Exercícios compostos são prioritários\n",
    "\n",
    "## Emagrecimento\n",
    "Treino para perda de gordura corporal:\n",
    "- Volume: 3-4 séries por exercício\n",
    "- Repetições: 12-15 repetições por série\n",
    "- Descanso: 30-60 segundos entre séries\n",
    "- Circuitos e superséries são eficientes\n",
    "- Combinar com exercícios aeróbicos\n",
    "\n",
    "## Condicionamento Físico\n",
    "Melhora da capacidade cardiovascular e resistência:\n",
    "- Volume: 2-3 séries por exercício\n",
    "- Repetições: 15-20 repetições por série\n",
    "- Descanso: 30-45 segundos entre séries\n",
    "- Exercícios funcionais e compostos\n",
    "- Alta intensidade e menor carga\n",
    "\n",
    "# Exercícios por Grupo Muscular\n",
    "\n",
    "## Peito (Peitoral)\n",
    "- Supino reto com barra: Peitoral maior, tríceps, deltoides anterior\n",
    "- Supino inclinado com halteres: Peitoral superior, deltoides\n",
    "- Crucifixo: Isolamento do peitoral\n",
    "- Flexão de braços: Peitoral, tríceps, core\n",
    "- Supino declinado: Peitoral inferior\n",
    "- Crossover: Definição e isolamento do peitoral\n",
    "\n",
    "## Costas (Dorsal)\n",
    "- Barra fixa: Grande dorsal, bíceps\n",
    "- Remada curvada: Trapézio médio, romboides, grande dorsal\n",
    "- Puxada frontal: Grande dorsal, bíceps\n",
    "- Remada unilateral: Dorsal, estabilização do core\n",
    "- Levantamento terra: Eretores da espinha, glúteos, posterior de coxa\n",
    "- Pulldown: Grande dorsal, bíceps\n",
    "\n",
    "## Pernas (Membros Inferiores)\n",
    "- Agachamento livre: Quadríceps, glúteos, posterior\n",
    "- Leg press: Quadríceps, glúteos\n",
    "- Cadeira extensora: Isolamento do quadríceps\n",
    "- Mesa flexora: Posterior de coxa\n",
    "- Stiff: Posterior de coxa, glúteos\n",
    "- Avanço (afundo): Quadríceps, glúteos, equilíbrio\n",
    "- Panturrilha em pé: Gastrocnêmio\n",
    "- Panturrilha sentado: Sóleo\n",
    "\n",
    "## Ombros (Deltoides)\n",
    "- Desenvolvimento com barra: Deltoides anterior e médio\n",
    "- Desenvolvimento com halteres: Deltoides completo, estabilização\n",
    "- Elevação lateral: Deltoides médio\n",
    "- Elevação frontal: Deltoides anterior\n",
    "- Crucifixo invertido: Deltoides posterior\n",
    "- Remada alta: Deltoides, trapézio\n",
    "\n",
    "## Bíceps\n",
    "- Rosca direta com barra: Bíceps braquial\n",
    "- Rosca alternada com halteres: Bíceps, braquial\n",
    "- Rosca martelo: Braquial, braquiorradial\n",
    "- Rosca concentrada: Isolamento do bíceps\n",
    "- Rosca scott: Bíceps braquial (porção curta)\n",
    "\n",
    "## Tríceps\n",
    "- Tríceps testa: Cabeça longa do tríceps\n",
    "- Tríceps corda: Tríceps completo\n",
    "- Mergulho: Tríceps, peitoral inferior\n",
    "- Tríceps coice: Isolamento do tríceps\n",
    "- Supino fechado: Tríceps, peitoral\n",
    "\n",
    "## Abdômen\n",
    "- Abdominal crunch: Reto abdominal superior\n",
    "- Elevação de pernas: Reto abdominal inferior\n",
    "- Prancha: Core completo, estabilização\n",
    "- Abdominal bicicleta: Oblíquos, reto abdominal\n",
    "- Prancha lateral: Oblíquos\n",
    "\n",
    "# Divisões de Treino por Periodicidade\n",
    "\n",
    "## 2 dias por semana - Treino AB\n",
    "- Treino A: Corpo superior (peito, costas, ombros, braços)\n",
    "- Treino B: Corpo inferior (pernas completo, abdômen)\n",
    "\n",
    "## 3 dias por semana - Treino ABC\n",
    "- Treino A: Peito, ombros e tríceps\n",
    "- Treino B: Costas e bíceps\n",
    "- Treino C: Pernas e abdômen\n",
    "\n",
    "## 4 dias por semana - Treino ABCD\n",
    "- Treino A: Peito e tríceps\n",
    "- Treino B: Costas e bíceps\n",
    "- Treino C: Pernas (quadríceps e panturrilha)\n",
    "- Treino D: Ombros e abdômen\n",
    "\n",
    "## 5 dias por semana - Treino ABCDE\n",
    "- Treino A: Peito\n",
    "- Treino B: Costas\n",
    "- Treino C: Pernas (quadríceps e panturrilha)\n",
    "- Treino D: Ombros e abdômen\n",
    "- Treino E: Bíceps, tríceps e posterior de coxa\n",
    "\n",
    "## 6 dias por semana - Treino ABCDEF\n",
    "- Treino A: Peito\n",
    "- Treino B: Costas\n",
    "- Treino C: Pernas (quadríceps e panturrilha)\n",
    "- Treino D: Ombros\n",
    "- Treino E: Bíceps e tríceps\n",
    "- Treino F: Posterior de coxa e abdômen\n",
    "\n",
    "# Dicas Importantes de Execução\n",
    "\n",
    "## Aquecimento\n",
    "- 5-10 minutos de atividade cardiovascular leve\n",
    "- Mobilidade articular específica\n",
    "- Séries de aquecimento com carga progressiva\n",
    "\n",
    "## Técnica de Execução\n",
    "- Controlar a fase concêntrica e excêntrica\n",
    "- Manter amplitude completa de movimento\n",
    "- Respiração adequada: expirar no esforço\n",
    "- Evitar compensações e trapaças\n",
    "\n",
    "## Progressão\n",
    "- Aumentar carga quando conseguir realizar todas as séries e repetições com boa técnica\n",
    "- Incrementos de 2,5 a 5% na carga\n",
    "- Variar exercícios a cada 4-6 semanas\n",
    "\n",
    "## Recuperação\n",
    "- Descanso adequado entre treinos do mesmo grupo muscular (48-72h)\n",
    "- Sono de qualidade (7-9 horas)\n",
    "- Nutrição adequada para os objetivos\n",
    "- Hidratação constante\n",
    "\"\"\"\n",
    "\n",
    "print(\"Base de conhecimento criada com sucesso!\")"
   ]
  },
  {
   "cell_type": "markdown",
   "id": "0189ae4c",
   "metadata": {},
   "source": [
    "### 3.2 - Configuração do modelo de embedding"
   ]
  },
  {
   "cell_type": "code",
   "execution_count": 126,
   "id": "2ac3b96b",
   "metadata": {},
   "outputs": [
    {
     "name": "stdout",
     "output_type": "stream",
     "text": [
      "Modelo de embedding carregado: sentence-transformers/all-MiniLM-L6-v2\n",
      "Dimensão dos vetores: 384 (vs 1024 do bge-m3)\n",
      "Modelo leve e eficiente para o projeto!\n"
     ]
    }
   ],
   "source": [
    "# Usando modelo mais leve - all-MiniLM-L6-v2 (apenas ~80MB vs 2.2GB do bge-m3)\n",
    "embedding_model = \"sentence-transformers/all-MiniLM-L6-v2\"\n",
    "embeddings = HuggingFaceEmbeddings(\n",
    "    model_name=embedding_model,\n",
    "    model_kwargs={'device': 'cpu'},\n",
    "    encode_kwargs={'normalize_embeddings': True}\n",
    ")\n",
    "print(f\"Modelo de embedding carregado: {embedding_model}\")\n",
    "print(f\"Dimensão dos vetores: 384 (vs 1024 do bge-m3)\")\n",
    "print(\"Modelo leve e eficiente para o projeto!\")"
   ]
  },
  {
   "cell_type": "markdown",
   "id": "44592aa0",
   "metadata": {},
   "source": [
    "### 3.3 - Configuração do Pinecone"
   ]
  },
  {
   "cell_type": "code",
   "execution_count": 127,
   "id": "87dc9887",
   "metadata": {},
   "outputs": [
    {
     "name": "stdout",
     "output_type": "stream",
     "text": [
      "Pinecone configurado com 384 dimensões (all-MiniLM-L6-v2)!\n"
     ]
    }
   ],
   "source": [
    "pc = Pinecone(api_key=os.environ.get(\"PINECONE_API_KEY\"))\n",
    "\n",
    "def create_index(pc, index_name, dimension=384):  # Alterado de 1024 para 384\n",
    "    existing_indexes = [index_info[\"name\"] for index_info in pc.list_indexes()]\n",
    "    if index_name in existing_indexes:\n",
    "        print(f\"Deletando o indice existente '{index_name}'...\")\n",
    "        pc.delete_index(index_name)\n",
    "        time.sleep(1)\n",
    "\n",
    "    pc.create_index(\n",
    "        name=index_name,\n",
    "        metric=\"cosine\",\n",
    "        dimension=dimension,\n",
    "        spec=ServerlessSpec(cloud=\"aws\", region=\"us-east-1\")\n",
    "    )\n",
    "    \n",
    "    while not pc.describe_index(index_name).status[\"ready\"]:\n",
    "        print(\"Aguardando o indice ficar pronto...\")\n",
    "        time.sleep(1)\n",
    "\n",
    "    index = pc.Index(index_name)\n",
    "    return index\n",
    "\n",
    "print(\"Pinecone configurado com 384 dimensões (all-MiniLM-L6-v2)!\")"
   ]
  },
  {
   "cell_type": "markdown",
   "id": "b7d7d97b",
   "metadata": {},
   "source": [
    "### 3.4 - Criação dos documentos e vetorização"
   ]
  },
  {
   "cell_type": "code",
   "execution_count": 128,
   "id": "20bfae8f",
   "metadata": {},
   "outputs": [
    {
     "name": "stdout",
     "output_type": "stream",
     "text": [
      "Chunks gerados: 8\n",
      "Total de chunks criados: 8\n"
     ]
    }
   ],
   "source": [
    "from langchain_text_splitters import RecursiveCharacterTextSplitter\n",
    "\n",
    "def split_chunks(documents, chunk_size=1000, chunk_overlap=200):\n",
    "    text_splitter = RecursiveCharacterTextSplitter(\n",
    "        chunk_size=chunk_size,\n",
    "        chunk_overlap=chunk_overlap\n",
    "    )\n",
    "    chunks = text_splitter.split_documents(documents)\n",
    "    print(f\"Chunks gerados: {len(chunks)}\")\n",
    "    return chunks\n",
    "\n",
    "# Criar documentos a partir da base de conhecimento\n",
    "docs = [Document(page_content=knowledge_base)]\n",
    "chunks = split_chunks(docs, chunk_size=800, chunk_overlap=100)\n",
    "\n",
    "print(f\"Total de chunks criados: {len(chunks)}\")"
   ]
  },
  {
   "cell_type": "markdown",
   "id": "ceb006e7",
   "metadata": {},
   "source": [
    "### 3.5 - Criação do índice e retriever"
   ]
  },
  {
   "cell_type": "code",
   "execution_count": 129,
   "id": "f6b2a608",
   "metadata": {},
   "outputs": [
    {
     "name": "stdout",
     "output_type": "stream",
     "text": [
      "Deletando o indice existente 'fitness-coach'...\n",
      "Retriever configurado com sucesso!\n",
      "Retriever configurado com sucesso!\n"
     ]
    }
   ],
   "source": [
    "index_name = \"fitness-coach\"\n",
    "\n",
    "def config_retriever(pc, index_name, docs, embeddings):\n",
    "    create_index(pc, index_name)\n",
    "    vectorstore = PineconeVectorStore.from_documents(\n",
    "        documents=docs,\n",
    "        embedding=embeddings,\n",
    "        index_name=index_name,\n",
    "    )\n",
    "    return vectorstore.as_retriever(\n",
    "        search_type='mmr',\n",
    "        search_kwargs={'k': 5, 'fetch_k': 10}\n",
    "    )\n",
    "\n",
    "retriever = config_retriever(pc, index_name, chunks, embeddings)\n",
    "print(\"Retriever configurado com sucesso!\")"
   ]
  },
  {
   "cell_type": "markdown",
   "id": "5feda2d9",
   "metadata": {},
   "source": [
    "### 3.6 - Testando o retriever"
   ]
  },
  {
   "cell_type": "code",
   "execution_count": 131,
   "id": "c30d948f",
   "metadata": {},
   "outputs": [
    {
     "name": "stdout",
     "output_type": "stream",
     "text": [
      "Documentos recuperados: 5\n",
      "\n",
      "Primeiro resultado:\n",
      "# Princípios do Treinamento de Musculação\n",
      "\n",
      "## Hipertrofia Muscular\n",
      "A hipertrofia é o aumento do tamanho das fibras musculares. Para maximizar a hipertrofia:\n",
      "- Volume: 3-5 séries por exercício\n",
      "- Repetições: 8-12 repetições por série\n",
      "- Descanso: 60-90 segundos entre séries\n",
      "- Frequência: Treinar cada g...\n"
     ]
    }
   ],
   "source": [
    "# Teste do retriever\n",
    "test_results = retriever.invoke(\"exercícios para hipertrofia de peito\")\n",
    "print(f\"Documentos recuperados: {len(test_results)}\")\n",
    "print(\"\\nPrimeiro resultado:\")\n",
    "print(test_results[0].page_content[:300] + \"...\")"
   ]
  },
  {
   "cell_type": "markdown",
   "id": "e37136c0",
   "metadata": {},
   "source": [
    "## 4 - Ferramentas (Tools)"
   ]
  },
  {
   "cell_type": "markdown",
   "id": "c3d49ddf",
   "metadata": {},
   "source": [
    "### 4.1 - Ferramenta de Cálculo Matemático"
   ]
  },
  {
   "cell_type": "code",
   "execution_count": 132,
   "id": "4353d869",
   "metadata": {},
   "outputs": [
    {
     "name": "stdout",
     "output_type": "stream",
     "text": [
      "Ferramentas de cálculo criadas!\n"
     ]
    }
   ],
   "source": [
    "@tool\n",
    "def calculator_tool(expression: str) -> str:\n",
    "    \"\"\"Realiza cálculos matemáticos. Use para calcular IMC, gasto calórico e outras operações matemáticas.\n",
    "    Exemplos: '70 / (1.75 ** 2)' para IMC, '88.36 + (13.4 * 70) - (4.8 * 25)' para TMB.\"\"\"\n",
    "    try:\n",
    "        import numexpr\n",
    "        local_dict = {\"pi\": math.pi, \"e\": math.e}\n",
    "        result = numexpr.evaluate(\n",
    "            expression.strip(),\n",
    "            global_dict={},\n",
    "            local_dict=local_dict,\n",
    "        )\n",
    "        return str(result)\n",
    "    except Exception as e:\n",
    "        return f\"Erro ao calcular: {str(e)}\"\n",
    "\n",
    "@tool\n",
    "def fitness_calculator(idade: int, peso: float, altura: float, sexo: str, objetivo: str) -> str:\n",
    "    \"\"\"Calcula IMC e gasto calórico aproximado baseado nos dados do usuário.\n",
    "    Parâmetros: idade (anos), peso (kg), altura (metros), sexo ('M' ou 'F'), objetivo (hipertrofia/emagrecimento/força/condicionamento).\n",
    "    Retorna informações sobre IMC e estimativa de gasto calórico por treino.\"\"\"\n",
    "    try:\n",
    "        # Calcular IMC\n",
    "        imc = peso / (altura ** 2)\n",
    "        \n",
    "        # Classificação do IMC\n",
    "        if imc < 18.5:\n",
    "            classificacao_imc = \"Abaixo do peso\"\n",
    "        elif imc < 25:\n",
    "            classificacao_imc = \"Peso normal\"\n",
    "        elif imc < 30:\n",
    "            classificacao_imc = \"Sobrepeso\"\n",
    "        else:\n",
    "            classificacao_imc = \"Obesidade\"\n",
    "        \n",
    "        # Calcular TMB (Taxa Metabólica Basal) usando equação de Harris-Benedict\n",
    "        if sexo.upper() == 'M':\n",
    "            tmb = 88.36 + (13.4 * peso) + (4.8 * altura * 100) - (5.7 * idade)\n",
    "        else:\n",
    "            tmb = 447.6 + (9.2 * peso) + (3.1 * altura * 100) - (4.3 * idade)\n",
    "        \n",
    "        # Estimar gasto calórico por treino baseado no objetivo\n",
    "        if objetivo.lower() == \"hipertrofia\":\n",
    "            calorias_treino = 300 + (peso * 4)\n",
    "            intensidade = \"Moderada a alta\"\n",
    "        elif objetivo.lower() == \"emagrecimento\":\n",
    "            calorias_treino = 400 + (peso * 5)\n",
    "            intensidade = \"Alta\"\n",
    "        elif objetivo.lower() == \"força\":\n",
    "            calorias_treino = 250 + (peso * 3.5)\n",
    "            intensidade = \"Alta intensidade, menor volume\"\n",
    "        else:  # condicionamento\n",
    "            calorias_treino = 350 + (peso * 4.5)\n",
    "            intensidade = \"Moderada a alta\"\n",
    "        \n",
    "        resultado = f\"\"\"\n",
    "        Análise Física:\n",
    "        - IMC: {imc:.1f} ({classificacao_imc})\n",
    "        - Taxa Metabólica Basal: {tmb:.0f} kcal/dia\n",
    "        - Gasto calórico estimado por treino: {calorias_treino:.0f} kcal\n",
    "        - Intensidade recomendada: {intensidade}\n",
    "        \n",
    "        Recomendações:\n",
    "        - Hidratação: {(peso * 35):.0f}ml de água por dia\n",
    "        - Proteína diária: {(peso * 1.8 if objetivo == 'hipertrofia' else peso * 1.6):.0f}g\n",
    "        \"\"\"\n",
    "        \n",
    "        return resultado\n",
    "    except Exception as e:\n",
    "        return f\"Erro ao calcular dados fitness: {str(e)}\"\n",
    "\n",
    "print(\"Ferramentas de cálculo criadas!\")"
   ]
  },
  {
   "cell_type": "markdown",
   "id": "bdd8de52",
   "metadata": {},
   "source": [
    "### 4.2 - Ferramenta de Busca na Web"
   ]
  },
  {
   "cell_type": "code",
   "execution_count": 133,
   "id": "3e87e274",
   "metadata": {},
   "outputs": [
    {
     "name": "stdout",
     "output_type": "stream",
     "text": [
      "Ferramenta de busca criada (DuckDuckGo - gratuita)!\n"
     ]
    }
   ],
   "source": [
    "@tool\n",
    "def search_tool(query: str = \"\") -> str:\n",
    "    \"\"\"Busca informações na internet sobre treinos, exercícios e melhores práticas de musculação.\n",
    "    Use para encontrar informações atualizadas sobre técnicas de treino, novos estudos ou tendências.\"\"\"\n",
    "    try:\n",
    "        search = DuckDuckGoSearchRun()\n",
    "        search_res = search.invoke(query)\n",
    "        return str(search_res)\n",
    "    except Exception as e:\n",
    "        return f\"Erro na busca: {str(e)}\"\n",
    "\n",
    "print(\"Ferramenta de busca criada (DuckDuckGo - gratuita)!\")"
   ]
  },
  {
   "cell_type": "markdown",
   "id": "970577cb",
   "metadata": {},
   "source": [
    "### 4.3 - Ferramenta RAG (Retriever)"
   ]
  },
  {
   "cell_type": "code",
   "execution_count": 134,
   "id": "d7a0e3bd",
   "metadata": {},
   "outputs": [
    {
     "name": "stdout",
     "output_type": "stream",
     "text": [
      "Ferramenta RAG criada!\n"
     ]
    }
   ],
   "source": [
    "retriever_tool = create_retriever_tool(\n",
    "    retriever,\n",
    "    \"knowledge_base_fitness\",\n",
    "    \"Busca informações na base de conhecimento sobre exercícios, músculos trabalhados, princípios de treinamento e divisões de treino. Use sempre que precisar de informações detalhadas sobre exercícios específicos ou metodologias de treino.\"\n",
    ")\n",
    "\n",
    "print(\"Ferramenta RAG criada!\")"
   ]
  },
  {
   "cell_type": "markdown",
   "id": "f8355240",
   "metadata": {},
   "source": [
    "## 5 - Construção do Agente com LangGraph"
   ]
  },
  {
   "cell_type": "markdown",
   "id": "55504685",
   "metadata": {},
   "source": [
    "### 5.1 - Definição do State"
   ]
  },
  {
   "cell_type": "code",
   "execution_count": 135,
   "id": "c6a3f366",
   "metadata": {},
   "outputs": [
    {
     "name": "stdout",
     "output_type": "stream",
     "text": [
      "State definido!\n"
     ]
    }
   ],
   "source": [
    "class State(TypedDict):\n",
    "    messages: Annotated[list, add_messages]\n",
    "\n",
    "print(\"State definido!\")"
   ]
  },
  {
   "cell_type": "markdown",
   "id": "b3d8e42f",
   "metadata": {},
   "source": [
    "### 5.2 - Configuração das ferramentas"
   ]
  },
  {
   "cell_type": "code",
   "execution_count": 136,
   "id": "183c1c9f",
   "metadata": {},
   "outputs": [
    {
     "name": "stdout",
     "output_type": "stream",
     "text": [
      "Total de ferramentas configuradas: 4\n"
     ]
    }
   ],
   "source": [
    "tools = [calculator_tool, fitness_calculator, search_tool, retriever_tool]\n",
    "tools_node = ToolNode(tools=tools)\n",
    "llm_with_tools = llm.bind_tools(tools)\n",
    "\n",
    "print(f\"Total de ferramentas configuradas: {len(tools)}\")"
   ]
  },
  {
   "cell_type": "markdown",
   "id": "2850ed13",
   "metadata": {},
   "source": [
    "### 5.3 - Definição do nó agente"
   ]
  },
  {
   "cell_type": "code",
   "execution_count": 137,
   "id": "5c01d5c8",
   "metadata": {},
   "outputs": [
    {
     "name": "stdout",
     "output_type": "stream",
     "text": [
      "Nó do agente definido!\n"
     ]
    }
   ],
   "source": [
    "def agent(state: State):\n",
    "    messages = state[\"messages\"]\n",
    "    response = llm_with_tools.invoke(messages)\n",
    "    return {\"messages\": [response]}\n",
    "\n",
    "print(\"Nó do agente definido!\")"
   ]
  },
  {
   "cell_type": "markdown",
   "id": "07382445",
   "metadata": {},
   "source": [
    "### 5.4 - Construção do grafo"
   ]
  },
  {
   "cell_type": "code",
   "execution_count": 138,
   "id": "e3b385e9",
   "metadata": {},
   "outputs": [
    {
     "name": "stdout",
     "output_type": "stream",
     "text": [
      "Grafo construído com sucesso!\n"
     ]
    }
   ],
   "source": [
    "def build_graph():\n",
    "    builder = StateGraph(State)\n",
    "    \n",
    "    builder.add_node(\"agent\", agent)\n",
    "    builder.add_node(\"tools\", tools_node)\n",
    "    \n",
    "    builder.add_edge(START, \"agent\")\n",
    "    builder.add_conditional_edges(\"agent\", tools_condition, [\"tools\", END])\n",
    "    builder.add_edge(\"tools\", \"agent\")\n",
    "    \n",
    "    memory = MemorySaver()\n",
    "    graph = builder.compile(checkpointer=memory)\n",
    "    \n",
    "    return graph\n",
    "\n",
    "graph = build_graph()\n",
    "print(\"Grafo construído com sucesso!\")"
   ]
  },
  {
   "cell_type": "markdown",
   "id": "70e074ce",
   "metadata": {},
   "source": [
    "### 5.5 - Visualização do grafo"
   ]
  },
  {
   "cell_type": "code",
   "execution_count": 139,
   "id": "e4a527b7",
   "metadata": {},
   "outputs": [
    {
     "data": {
      "image/png": "[encoded data removed]",
      "text/plain": [
       "<IPython.core.display.Image object>"
      ]
     },
     "metadata": {},
     "output_type": "display_data"
    }
   ],
   "source": [
    "try:\n",
    "    display(Image(graph.get_graph().draw_mermaid_png()))\n",
    "except Exception as e:\n",
    "    print(f\"Não foi possível visualizar o grafo: {e}\")"
   ]
  },
  {
   "cell_type": "markdown",
   "id": "ba384fa6",
   "metadata": {},
   "source": [
    "## 6 - Interface de Coleta de Dados"
   ]
  },
  {
   "cell_type": "markdown",
   "id": "74c7b292",
   "metadata": {},
   "source": [
    "### 6.1 - Criação do formulário"
   ]
  },
  {
   "cell_type": "code",
   "execution_count": 140,
   "id": "7d6cf0ec",
   "metadata": {},
   "outputs": [
    {
     "name": "stdout",
     "output_type": "stream",
     "text": [
      "Formulário criado!\n"
     ]
    }
   ],
   "source": [
    "def create_form():\n",
    "    idade = widgets.IntSlider(\n",
    "        value=25,\n",
    "        min=15,\n",
    "        max=80,\n",
    "        step=1,\n",
    "        description='Idade (anos):',\n",
    "        style={'description_width': 'initial'}\n",
    "    )\n",
    "    \n",
    "    peso = widgets.FloatSlider(\n",
    "        value=70.0,\n",
    "        min=40.0,\n",
    "        max=150.0,\n",
    "        step=0.5,\n",
    "        description='Peso (kg):',\n",
    "        style={'description_width': 'initial'}\n",
    "    )\n",
    "    \n",
    "    altura = widgets.FloatSlider(\n",
    "        value=1.75,\n",
    "        min=1.40,\n",
    "        max=2.20,\n",
    "        step=0.01,\n",
    "        description='Altura (m):',\n",
    "        style={'description_width': 'initial'}\n",
    "    )\n",
    "    \n",
    "    sexo = widgets.Dropdown(\n",
    "        options=['M', 'F'],\n",
    "        description='Sexo:',\n",
    "        value='M',\n",
    "        style={'description_width': 'initial'}\n",
    "    )\n",
    "    \n",
    "    periodicidade = widgets.IntSlider(\n",
    "        value=4,\n",
    "        min=2,\n",
    "        max=6,\n",
    "        step=1,\n",
    "        description='Dias por semana:',\n",
    "        style={'description_width': 'initial'}\n",
    "    )\n",
    "    \n",
    "    objetivo = widgets.Dropdown(\n",
    "        options=['hipertrofia', 'emagrecimento', 'força', 'condicionamento'],\n",
    "        description='Objetivo:',\n",
    "        value='hipertrofia',\n",
    "        style={'description_width': 'initial'}\n",
    "    )\n",
    "    \n",
    "    generate_btn = widgets.Button(\n",
    "        description=\"Gerar Plano de Treino\",\n",
    "        button_style='success',\n",
    "        icon='check'\n",
    "    )\n",
    "    \n",
    "    output = widgets.Output()\n",
    "    \n",
    "    form_fields = {\n",
    "        'idade': idade,\n",
    "        'peso': peso,\n",
    "        'altura': altura,\n",
    "        'sexo': sexo,\n",
    "        'periodicidade': periodicidade,\n",
    "        'objetivo': objetivo,\n",
    "        'generate_btn': generate_btn,\n",
    "        'output': output\n",
    "    }\n",
    "    \n",
    "    return form_fields\n",
    "\n",
    "print(\"Formulário criado!\")"
   ]
  },
  {
   "cell_type": "markdown",
   "id": "30295c93",
   "metadata": {},
   "source": [
    "### 6.2 - Função de exibição do formulário"
   ]
  },
  {
   "cell_type": "code",
   "execution_count": 141,
   "id": "3882365f",
   "metadata": {},
   "outputs": [
    {
     "name": "stdout",
     "output_type": "stream",
     "text": [
      "Função de exibição criada!\n"
     ]
    }
   ],
   "source": [
    "def display_form(form):\n",
    "    form_widget = widgets.VBox([\n",
    "        widgets.HTML(\"<h2>AI Fitness Coach - Dados do Usuario</h2>\"),\n",
    "        form['idade'],\n",
    "        form['peso'],\n",
    "        form['altura'],\n",
    "        form['sexo'],\n",
    "        form['periodicidade'],\n",
    "        form['objetivo'],\n",
    "        form['generate_btn'],\n",
    "        form['output']\n",
    "    ])\n",
    "    display(form_widget)\n",
    "\n",
    "print(\"Função de exibição criada!\")"
   ]
  },
  {
   "cell_type": "markdown",
   "id": "22403f80",
   "metadata": {},
   "source": [
    "## 7 - Geração do Plano de Treino"
   ]
  },
  {
   "cell_type": "markdown",
   "id": "e5bb90b3",
   "metadata": {},
   "source": [
    "### 7.1 - Função de construção do prompt"
   ]
  },
  {
   "cell_type": "code",
   "execution_count": 142,
   "id": "5f659d26",
   "metadata": {},
   "outputs": [
    {
     "name": "stdout",
     "output_type": "stream",
     "text": [
      "Função de construção de prompt criada!\n"
     ]
    }
   ],
   "source": [
    "def build_prompt(form_data):\n",
    "    idade = form_data['idade']\n",
    "    peso = form_data['peso']\n",
    "    altura = form_data['altura']\n",
    "    sexo = form_data['sexo']\n",
    "    periodicidade = form_data['periodicidade']\n",
    "    objetivo = form_data['objetivo']\n",
    "    \n",
    "    prompt = f\"\"\"\n",
    "Você é um personal trainer especializado em musculação. Crie um plano de treino completo e detalhado com as seguintes especificações:\n",
    "\n",
    "DADOS DO ALUNO:\n",
    "- Idade: {idade} anos\n",
    "- Peso: {peso} kg\n",
    "- Altura: {altura} m\n",
    "- Sexo: {sexo}\n",
    "- Frequência: {periodicidade} dias por semana\n",
    "- Objetivo: {objetivo}\n",
    "\n",
    "INSTRUÇÕES:\n",
    "1. Primeiro, use a ferramenta fitness_calculator para calcular o IMC e gasto calórico do aluno\n",
    "2. Use a ferramenta knowledge_base_fitness para buscar informações sobre:\n",
    "   - Princípios de treinamento para {objetivo}\n",
    "   - Divisão de treino ideal para {periodicidade} dias por semana\n",
    "   - Exercícios adequados para cada grupo muscular\n",
    "3. Opcionalmente, use a ferramenta search_tool se precisar de informações atualizadas sobre técnicas específicas\n",
    "\n",
    "ESTRUTURA DO PLANO (OBRIGATÓRIO):\n",
    "Gere EXATAMENTE 12 treinos completos, seguindo a divisão adequada para {periodicidade} dias por semana.\n",
    "\n",
    "Para cada um dos 12 treinos, forneça:\n",
    "- Nome do treino (ex: Treino A - Peito e Tríceps)\n",
    "- Lista de 4 a 6 exercícios\n",
    "- Para cada exercício:\n",
    "  * Nome do exercício\n",
    "  * Séries e repetições (adaptadas ao objetivo {objetivo})\n",
    "  * Tempo de descanso\n",
    "  * Dica de execução ou músculo trabalhado\n",
    "\n",
    "FORMATO DA RESPOSTA:\n",
    "Organize o plano de forma clara e profissional, dividido em:\n",
    "1. Análise Física (use os dados da ferramenta fitness_calculator)\n",
    "2. Plano de Treino (12 treinos detalhados)\n",
    "3. Orientações Gerais (aquecimento, progressão, recuperação)\n",
    "\n",
    "Seja detalhado, profissional e garanta que o plano seja seguro e eficaz para o objetivo do aluno.\n",
    "\"\"\"\n",
    "    \n",
    "    return prompt\n",
    "\n",
    "print(\"Função de construção de prompt criada!\")"
   ]
  },
  {
   "cell_type": "markdown",
   "id": "f1c38f1b",
   "metadata": {},
   "source": [
    "### 7.2 - Função de geração do plano"
   ]
  },
  {
   "cell_type": "code",
   "execution_count": 143,
   "id": "76edb196",
   "metadata": {},
   "outputs": [
    {
     "name": "stdout",
     "output_type": "stream",
     "text": [
      "Função de geração do plano criada!\n"
     ]
    }
   ],
   "source": [
    "def generate_workout_plan(form_data, graph):\n",
    "    prompt = build_prompt(form_data)\n",
    "    \n",
    "    config = {\"configurable\": {\"thread_id\": \"workout_session\"}}\n",
    "    \n",
    "    final_response = \"\"\n",
    "    \n",
    "    for event in graph.stream(\n",
    "        {\"messages\": [(\"user\", prompt)]},\n",
    "        config\n",
    "    ):\n",
    "        for value in event.values():\n",
    "            last_message = value[\"messages\"][-1]\n",
    "            if hasattr(last_message, 'content') and len(last_message.content) > 0:\n",
    "                final_response = last_message.content\n",
    "    \n",
    "    return final_response\n",
    "\n",
    "print(\"Função de geração do plano criada!\")"
   ]
  },
  {
   "cell_type": "markdown",
   "id": "0d09b61b",
   "metadata": {},
   "source": [
    "### 7.3 - Função para formatar a resposta"
   ]
  },
  {
   "cell_type": "code",
   "execution_count": 144,
   "id": "01e2edbe",
   "metadata": {},
   "outputs": [
    {
     "name": "stdout",
     "output_type": "stream",
     "text": [
      "Funções de formatação criadas!\n"
     ]
    }
   ],
   "source": [
    "def format_response(response):\n",
    "    response = response.strip()\n",
    "    if \"</think>\" in response:\n",
    "        response = response.split(\"</think>\")[-1].strip()\n",
    "    return response\n",
    "\n",
    "def show_response(response):\n",
    "    display(Markdown(response))\n",
    "\n",
    "print(\"Funções de formatação criadas!\")"
   ]
  },
  {
   "cell_type": "markdown",
   "id": "1309bd13",
   "metadata": {},
   "source": [
    "### 7.4 - Função principal de geração"
   ]
  },
  {
   "cell_type": "code",
   "execution_count": 145,
   "id": "a791f39b",
   "metadata": {},
   "outputs": [
    {
     "name": "stdout",
     "output_type": "stream",
     "text": [
      "Função principal criada!\n"
     ]
    }
   ],
   "source": [
    "def on_generate_clicked(b):\n",
    "    form['output'].clear_output()\n",
    "    \n",
    "    with form['output']:\n",
    "        print(\"Gerando plano de treino personalizado...\")\n",
    "        print(\"Isso pode levar alguns minutos...\\n\")\n",
    "        \n",
    "        form_data = {\n",
    "            'idade': form['idade'].value,\n",
    "            'peso': form['peso'].value,\n",
    "            'altura': form['altura'].value,\n",
    "            'sexo': form['sexo'].value,\n",
    "            'periodicidade': form['periodicidade'].value,\n",
    "            'objetivo': form['objetivo'].value\n",
    "        }\n",
    "        \n",
    "        try:\n",
    "            response = generate_workout_plan(form_data, graph)\n",
    "            formatted_response = format_response(response)\n",
    "            \n",
    "            print(\"\\n\" + \"=\"*80)\n",
    "            print(\"PLANO DE TREINO GERADO COM SUCESSO\")\n",
    "            print(\"=\"*80 + \"\\n\")\n",
    "            \n",
    "            show_response(formatted_response)\n",
    "            \n",
    "            global workout_plan_content\n",
    "            workout_plan_content = formatted_response\n",
    "            \n",
    "        except Exception as e:\n",
    "            print(f\"Erro ao gerar plano de treino: {str(e)}\")\n",
    "\n",
    "print(\"Função principal criada!\")"
   ]
  },
  {
   "cell_type": "markdown",
   "id": "9f5fdf9a",
   "metadata": {},
   "source": [
    "## 8 - Interface Completa"
   ]
  },
  {
   "cell_type": "code",
   "execution_count": 148,
   "id": "ba36fe4d",
   "metadata": {},
   "outputs": [
    {
     "data": {
      "application/vnd.jupyter.widget-view+json": {
       "model_id": "02a65e35fccc416993c3970a7b23aba6",
       "version_major": 2,
       "version_minor": 0
      },
      "text/plain": [
       "VBox(children=(HTML(value='<h2>AI Fitness Coach - Dados do Usuario</h2>'), IntSlider(value=25, description='Id…"
      ]
     },
     "metadata": {},
     "output_type": "display_data"
    }
   ],
   "source": [
    "form = create_form()\n",
    "form['generate_btn'].on_click(on_generate_clicked)\n",
    "display_form(form)"
   ]
  },
  {
   "cell_type": "markdown",
   "id": "072b94cc",
   "metadata": {},
   "source": [
    "### OPCIONAL: Se você atingiu o rate limit, execute esta célula para usar um modelo mais leve"
   ]
  },
  {
   "cell_type": "code",
   "execution_count": null,
   "id": "e3244c5d",
   "metadata": {},
   "outputs": [],
   "source": [
    "# Reconfigura para modelo mais leve (menos tokens)\n",
    "print(\" Trocando para modelo llama-3.1-8b-instant (mais rápido, consome menos tokens)...\")\n",
    "\n",
    "id_model = \"llama-3.1-8b-instant\"\n",
    "temperature = 0.7\n",
    "\n",
    "llm = load_llm(id_model, temperature)\n",
    "llm_with_tools = llm.bind_tools(tools)\n",
    "\n",
    "# Reconstrói o grafo com o novo modelo\n",
    "graph = build_graph()\n",
    "\n",
    "print(\" Modelo mais leve configurado!\")\n",
    "print(\" Agora você pode clicar em 'Gerar Plano de Treino' novamente\")"
   ]
  },
  {
   "cell_type": "markdown",
   "id": "19a8fd7a",
   "metadata": {},
   "source": [
    "### SOLUÇÃO PARA RATE LIMIT: Prompt Otimizado (usa menos tokens)"
   ]
  },
  {
   "cell_type": "code",
   "execution_count": null,
   "id": "eb2811c4",
   "metadata": {},
   "outputs": [],
   "source": [
    "def build_prompt_optimized(form_data):\n",
    "    \"\"\"Versão otimizada que consome menos tokens - gera plano mais conciso\"\"\"\n",
    "    idade = form_data['idade']\n",
    "    peso = form_data['peso']\n",
    "    altura = form_data['altura']\n",
    "    sexo = form_data['sexo']\n",
    "    periodicidade = form_data['periodicidade']\n",
    "    objetivo = form_data['objetivo']\n",
    "    \n",
    "    prompt = f\"\"\"Crie um plano de treino de musculação:\n",
    "\n",
    "DADOS: {idade}anos, {peso}kg, {altura}m, sexo {sexo}, {periodicidade}x/semana, objetivo: {objetivo}\n",
    "\n",
    "Use fitness_calculator e knowledge_base_fitness para criar 12 treinos.\n",
    "Cada treino: nome, 4-6 exercícios (nome, séries x reps, descanso).\n",
    "Formato: Análise Física + 12 Treinos + Orientações.\"\"\"\n",
    "    \n",
    "    return prompt\n",
    "\n",
    "def on_generate_clicked_optimized(b):\n",
    "    \"\"\"Versão otimizada que consome menos tokens\"\"\"\n",
    "    form['output'].clear_output()\n",
    "    \n",
    "    with form['output']:\n",
    "        print(\" Gerando plano OTIMIZADO (menos tokens)...\")\n",
    "        print(\" Aguarde...\\n\")\n",
    "        \n",
    "        form_data = {\n",
    "            'idade': form['idade'].value,\n",
    "            'peso': form['peso'].value,\n",
    "            'altura': form['altura'].value,\n",
    "            'sexo': form['sexo'].value,\n",
    "            'periodicidade': form['periodicidade'].value,\n",
    "            'objetivo': form['objetivo'].value\n",
    "        }\n",
    "        \n",
    "        try:\n",
    "            # Usa prompt otimizado\n",
    "            prompt = build_prompt_optimized(form_data)\n",
    "            config = {\"configurable\": {\"thread_id\": \"workout_session\"}}\n",
    "            \n",
    "            final_response = \"\"\n",
    "            for event in graph.stream({\"messages\": [(\"user\", prompt)]}, config):\n",
    "                for value in event.values():\n",
    "                    last_message = value[\"messages\"][-1]\n",
    "                    if hasattr(last_message, 'content') and len(last_message.content) > 0:\n",
    "                        final_response = last_message.content\n",
    "            \n",
    "            formatted_response = format_response(final_response)\n",
    "            \n",
    "            print(\"\\n\" + \"=\"*60)\n",
    "            print(\" PLANO GERADO COM SUCESSO\")\n",
    "            print(\"=\"*60 + \"\\n\")\n",
    "            \n",
    "            show_response(formatted_response)\n",
    "            \n",
    "            global workout_plan_content\n",
    "            workout_plan_content = formatted_response\n",
    "            \n",
    "        except Exception as e:\n",
    "            error_msg = str(e)\n",
    "            if \"rate_limit\" in error_msg.lower():\n",
    "                print(\" RATE LIMIT - Aguarde 2-5 minutos e tente novamente\")\n",
    "                print(\" Ou tente usar outro modelo Groq se disponível\")\n",
    "            else:\n",
    "                print(f\" Erro: {error_msg}\")\n",
    "\n",
    "# Reconfigura o botão para usar a versão otimizada\n",
    "form['generate_btn'].on_click(on_generate_clicked_optimized)\n",
    "\n",
    "print(\"✅ Prompt otimizado configurado!\")\n",
    "print(\"💡 Agora clique em 'Gerar Plano de Treino' para usar versão que consome menos tokens\")"
   ]
  },
  {
   "cell_type": "markdown",
   "id": "e03347f5",
   "metadata": {},
   "source": [
    "### 9.2 - Loop de chat"
   ]
  },
  {
   "cell_type": "code",
   "execution_count": null,
   "id": "a2e5584a",
   "metadata": {},
   "outputs": [],
   "source": [
    "def run_chat():\n",
    "    print(\"AI Fitness Coach - Modo Chat\")\n",
    "    print(\"Digite 'sair' ou 'q' para encerrar\\n\")\n",
    "    print(\"=\"*50)\n",
    "    \n",
    "    start_msg = \"Olá! Sou seu AI Fitness Coach. Posso ajudar você com dúvidas sobre treinos, exercícios, nutrição e criar planos personalizados. Como posso ajudar?\"\n",
    "    print(f\"Coach: {start_msg}\")\n",
    "    \n",
    "    while True:\n",
    "        try:\n",
    "            print(\"\\n\" + \"=\"*50 + \"\\n\")\n",
    "            user_input = input(\"Você: \")\n",
    "            \n",
    "            if user_input.lower() in [\"q\", \"sair\", \"exit\"]:\n",
    "                print(\"\\nAté mais! Bons treinos!\")\n",
    "                break\n",
    "            \n",
    "            if user_input.strip():\n",
    "                stream_graph_updates([(\"user\", user_input)])\n",
    "                \n",
    "        except KeyboardInterrupt:\n",
    "            print(\"\\n\\nChat interrompido. Até mais!\")\n",
    "            break\n",
    "        except Exception as e:\n",
    "            print(f\"Erro: {str(e)}\")\n",
    "            break\n",
    "\n",
    "# Descomente a linha abaixo para iniciar o modo chat\n",
    "# run_chat()"
   ]
  },
  {
   "cell_type": "markdown",
   "id": "3ea19f75",
   "metadata": {},
   "source": [
    "## 10 - Testes e Exemplos"
   ]
  },
  {
   "cell_type": "markdown",
   "id": "004b9895",
   "metadata": {},
   "source": [
    "### 10.1 - Teste da ferramenta de cálculo"
   ]
  },
  {
   "cell_type": "code",
   "execution_count": null,
   "id": "dad83710",
   "metadata": {},
   "outputs": [
    {
     "name": "stdout",
     "output_type": "stream",
     "text": [
      "Teste da Ferramenta de Cálculo:\n",
      "\n",
      "        Análise Física:\n",
      "        - IMC: 24.5 (Peso normal)\n",
      "        - Taxa Metabólica Basal: 1791 kcal/dia\n",
      "        - Gasto calórico estimado por treino: 600 kcal\n",
      "        - Intensidade recomendada: Moderada a alta\n",
      "\n",
      "        Recomendações:\n",
      "        - Hidratação: 2625ml de água por dia\n",
      "        - Proteína diária: 135g\n",
      "        \n"
     ]
    }
   ],
   "source": [
    "# Teste do fitness_calculator\n",
    "resultado = fitness_calculator.invoke({\n",
    "    \"idade\": 25,\n",
    "    \"peso\": 75.0,\n",
    "    \"altura\": 1.75,\n",
    "    \"sexo\": \"M\",\n",
    "    \"objetivo\": \"hipertrofia\"\n",
    "})\n",
    "\n",
    "print(\"Teste da Ferramenta de Cálculo:\")\n",
    "print(resultado)"
   ]
  },
  {
   "cell_type": "markdown",
   "id": "f1af229e",
   "metadata": {},
   "source": [
    "### 10.2 - Teste do retriever"
   ]
  },
  {
   "cell_type": "code",
   "execution_count": null,
   "id": "b363ff66",
   "metadata": {},
   "outputs": [
    {
     "name": "stdout",
     "output_type": "stream",
     "text": [
      "Teste da Ferramenta RAG:\n",
      "# Princípios do Treinamento de Musculação\n",
      "\n",
      "## Hipertrofia Muscular\n",
      "A hipertrofia é o aumento do tamanho das fibras musculares. Para maximizar a hipertrofia:\n",
      "- Volume: 3-5 séries por exercício\n",
      "- Repetições: 8-12 repetições por série\n",
      "- Descanso: 60-90 segundos entre séries\n",
      "- Frequência: Treinar cada grupo muscular 2 vezes por semana\n",
      "- Progressão: Aumentar carga gradualmente\n",
      "\n",
      "## Força Muscular\n",
      "Treinamento focado em ganho de força máxima:\n",
      "- Volume: 3-5 séries por exercício\n",
      "- Repetições: 3-6 repetiçõ...\n"
     ]
    }
   ],
   "source": [
    "# Teste do retriever_tool\n",
    "resultado = retriever_tool.invoke(\"exercícios para treino de peito para hipertrofia\")\n",
    "\n",
    "print(\"Teste da Ferramenta RAG:\")\n",
    "print(resultado[:500] + \"...\")"
   ]
  },
  {
   "cell_type": "markdown",
   "id": "c4b5e507",
   "metadata": {},
   "source": [
    "### 10.3 - Teste completo com exemplo"
   ]
  },
  {
   "cell_type": "code",
   "execution_count": null,
   "id": "b7601147",
   "metadata": {},
   "outputs": [
    {
     "name": "stdout",
     "output_type": "stream",
     "text": [
      "Teste completo com dados de exemplo:\n",
      "Idade: 28 anos\n",
      "Peso: 80.0 kg\n",
      "Altura: 1.78 m\n",
      "Periodicidade: 4 dias/semana\n",
      "Objetivo: hipertrofia\n",
      "\n",
      "Descomente as linhas abaixo para gerar o plano:\n",
      "\n"
     ]
    }
   ],
   "source": [
    "# Exemplo de dados para teste\n",
    "exemplo_form_data = {\n",
    "    'idade': 28,\n",
    "    'peso': 80.0,\n",
    "    'altura': 1.78,\n",
    "    'sexo': 'M',\n",
    "    'periodicidade': 4,\n",
    "    'objetivo': 'hipertrofia'\n",
    "}\n",
    "\n",
    "print(\"Teste completo com dados de exemplo:\")\n",
    "print(f\"Idade: {exemplo_form_data['idade']} anos\")\n",
    "print(f\"Peso: {exemplo_form_data['peso']} kg\")\n",
    "print(f\"Altura: {exemplo_form_data['altura']} m\")\n",
    "print(f\"Periodicidade: {exemplo_form_data['periodicidade']} dias/semana\")\n",
    "print(f\"Objetivo: {exemplo_form_data['objetivo']}\")\n",
    "print(\"\\nDescomente as linhas abaixo para gerar o plano:\\n\")\n",
    "\n",
    "\n",
    "#response = generate_workout_plan(exemplo_form_data, graph)\n",
    "#show_response(format_response(response))"
   ]
  },
  {
   "cell_type": "markdown",
   "id": "c580314e",
   "metadata": {},
   "source": [
    "## 11 - Exportação (Opcional)"
   ]
  },
  {
   "cell_type": "code",
   "execution_count": null,
   "id": "76213640",
   "metadata": {},
   "outputs": [],
   "source": [
    "def export_to_txt(content, filename=\"plano_treino.txt\"):\n",
    "    \"\"\"Exporta o plano de treino para um arquivo de texto\"\"\"\n",
    "    try:\n",
    "        with open(filename, 'w', encoding='utf-8') as f:\n",
    "            f.write(content)\n",
    "        print(f\"Plano exportado com sucesso para: {filename}\")\n",
    "    except Exception as e:\n",
    "        print(f\"Erro ao exportar: {str(e)}\")\n",
    "\n",
    "# Exemplo de uso (após gerar um plano):\n",
    "    #if 'workout_plan_content' in globals():\n",
    "    #export_to_txt(workout_plan_content)"
   ]
  },
  {
   "cell_type": "markdown",
   "id": "26816a15",
   "metadata": {},
   "source": [
    "## Conclusão\n",
    "\n",
    "Este notebook implementa um agente completo de IA para criação de planos de treino personalizados usando LangGraph.\n",
    "\n",
    "### Funcionalidades Implementadas:\n",
    "\n",
    "1. Coleta e validação de dados do usuário (idade, peso, altura, periodicidade, objetivo)\n",
    "2. Ferramenta de cálculos matemáticos (IMC, gasto calórico, TMB)\n",
    "3. Ferramenta de busca na web (Tavily Search) para informações atualizadas\n",
    "4. Sistema RAG com base de conhecimento vetorizada no Pinecone\n",
    "5. Geração de 12 treinos completos e detalhados\n",
    "6. Interface interativa com formulário\n",
    "7. Modo chat para dúvidas e interações\n",
    "\n",
    "### Arquitetura LangGraph:\n",
    "\n",
    "- Nó de agente principal\n",
    "- Nó de ferramentas (tools)\n",
    "- Transições condicionais entre agente e ferramentas\n",
    "- Memória persistente para contexto de conversação\n",
    "\n",
    "### Como Usar:\n",
    "\n",
    "1. Execute todas as células na ordem\n",
    "2. Preencha o formulário com seus dados\n",
    "3. Clique em \"Gerar Plano de Treino\"\n",
    "4. Aguarde a geração do plano completo\n",
    "5. Opcionalmente, use o modo chat para tirar dúvidas\n",
    "\n",
    "### Próximos Passos:\n",
    "\n",
    "- Adicionar exportação para PDF\n",
    "- Implementar acompanhamento de progresso\n",
    "- Criar histórico de treinos\n",
    "- Adicionar recomendações nutricionais detalhadas"
   ]
  }
 ],
 "metadata": {
  "kernelspec": {
   "display_name": "langchain",
   "language": "python",
   "name": "python3"
  },
  "language_info": {
   "codemirror_mode": {
    "name": "ipython",
    "version": 3
   },
   "file_extension": ".py",
   "mimetype": "text/x-python",
   "name": "python",
   "nbconvert_exporter": "python",
   "pygments_lexer": "ipython3",
   "version": "3.13.5"
  }
 },
 "nbformat": 4,
 "nbformat_minor": 5
}
